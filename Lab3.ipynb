{
 "cells": [
  {
   "cell_type": "markdown",
   "id": "ff33593c-9890-4d47-a4c3-78ed062e5988",
   "metadata": {},
   "source": [
    "## TI3160TU: Natural Language Processing - Classification tasks Lab"
   ]
  },
  {
   "cell_type": "markdown",
   "id": "26f3c7a6-4d13-48fb-b403-cb55a283eb36",
   "metadata": {},
   "source": [
    "In this hands-on lab, we will explore the basics of NLP classification tasks. We will demonstrate a simple application of Bag of Words representations and Naive Bayes classifier to solve an NLP classification task (e.g., Sentiment Analysis on movie reviews). Our classification task will comprise of the following steps:\n",
    "\n",
    "0. **Collecting dataset from Kaggle**\n",
    "1. **Preprocessing the raw dataset**\n",
    "2. **Extracting Bag of Words representations from the preprocessed dataset** \n",
    "3. **Performing sentiment classification using Naive Bayes**\n",
    "4. **Performance Considerations and Improvements**"
   ]
  },
  {
   "cell_type": "markdown",
   "id": "0f9e34a0-e956-4f99-af8e-a31525934493",
   "metadata": {},
   "source": [
    "## 0. Downloading and loading dataset from Kaggle \n"
   ]
  },
  {
   "cell_type": "markdown",
   "id": "a3880b07-b730-4a98-bc03-68a19cb100c2",
   "metadata": {},
   "source": [
    "We are going to use a dataset made available on Kaggle that consists of groundtruth data of movie reviews and their respective sentiment. The dataset is publicly and freely available here: https://www.kaggle.com/datasets/yasserh/imdb-movie-ratings-sentiment-analysis/"
   ]
  },
  {
   "cell_type": "code",
   "execution_count": 1,
   "id": "57106614-088a-4a5a-b236-e82c1737eecc",
   "metadata": {},
   "outputs": [
    {
     "data": {
      "text/html": [
       "<div>\n",
       "<style scoped>\n",
       "    .dataframe tbody tr th:only-of-type {\n",
       "        vertical-align: middle;\n",
       "    }\n",
       "\n",
       "    .dataframe tbody tr th {\n",
       "        vertical-align: top;\n",
       "    }\n",
       "\n",
       "    .dataframe thead th {\n",
       "        text-align: right;\n",
       "    }\n",
       "</style>\n",
       "<table border=\"1\" class=\"dataframe\">\n",
       "  <thead>\n",
       "    <tr style=\"text-align: right;\">\n",
       "      <th></th>\n",
       "      <th>text</th>\n",
       "      <th>label</th>\n",
       "    </tr>\n",
       "  </thead>\n",
       "  <tbody>\n",
       "    <tr>\n",
       "      <th>0</th>\n",
       "      <td>I grew up (b. 1965) watching and loving the Thunderbirds. All my mates at school watched. We played \"Thunderbirds\" before school, during lunch and after school. We all wanted to be Virgil or Scott. No one wanted to be Alan. Counting down from 5 became an art form. I took my children to see the movie hoping they would get a glimpse of what I loved as a child. How bitterly disappointing. The only high point was the snappy theme tune. Not that it could compare with the original score of the Thu...</td>\n",
       "      <td>0</td>\n",
       "    </tr>\n",
       "    <tr>\n",
       "      <th>1</th>\n",
       "      <td>When I put this movie in my DVD player, and sat down with a coke and some chips, I had some expectations. I was hoping that this movie would contain some of the strong-points of the first movie: Awsome animation, good flowing story, excellent voice cast, funny comedy and a kick-ass soundtrack. But, to my disappointment, not any of this is to be found in Atlantis: Milo's Return. Had I read some reviews first, I might not have been so let down. The following paragraph will be directed to those...</td>\n",
       "      <td>0</td>\n",
       "    </tr>\n",
       "    <tr>\n",
       "      <th>2</th>\n",
       "      <td>Why do people who do not know what a particular time in the past was like feel the need to try to define that time for others? Replace Woodstock with the Civil War and the Apollo moon-landing with the Titanic sinking and you've got as realistic a flick as this formulaic soap opera populated entirely by low-life trash. Is this what kids who were too young to be allowed to go to Woodstock and who failed grade school composition do? \"I'll show those old meanies, I'll put out my own movie and pr...</td>\n",
       "      <td>0</td>\n",
       "    </tr>\n",
       "    <tr>\n",
       "      <th>3</th>\n",
       "      <td>Even though I have great interest in Biblical movies, I was bored to death every minute of the movie. Everything is bad. The movie is too long, the acting is most of the time a Joke and the script is horrible. I did not get the point in mixing the story about Abraham and Noah together. So if you value your time and sanity stay away from this horror.</td>\n",
       "      <td>0</td>\n",
       "    </tr>\n",
       "    <tr>\n",
       "      <th>4</th>\n",
       "      <td>Im a die hard Dads Army fan and nothing will ever change that. I got all the tapes, DVD's and audiobooks and every time i watch/listen to them its brand new. &lt;br /&gt;&lt;br /&gt;The film. The film is a re run of certain episodes, Man and the hour, Enemy within the gates, Battle School and numerous others with a different edge. Introduction of a new General instead of Captain Square was a brilliant move - especially when he wouldn't cash the cheque (something that is rarely done now).&lt;br /&gt;&lt;br /&gt;It f...</td>\n",
       "      <td>1</td>\n",
       "    </tr>\n",
       "    <tr>\n",
       "      <th>5</th>\n",
       "      <td>A terrible movie as everyone has said. What made me laugh was the cameo appearance by Scott McNealy, giving an award to one of the murdered programmers in front of a wall of SUN logos. McNealy is the CEO of SUN Microsystem, a company that practically defines itself by its hatred of Microsoft. They have been instrumental in filing antitrust complaints against Microsoft. So, were they silly enough to think this bad movie would add fuel to that fire?&lt;br /&gt;&lt;br /&gt;There's no public record I see of...</td>\n",
       "      <td>0</td>\n",
       "    </tr>\n",
       "    <tr>\n",
       "      <th>6</th>\n",
       "      <td>Finally watched this shocking movie last night, and what a disturbing mindf**ker it is, and unbelievably bloody and some unforgettable scenes, and a total assault on the senses. Looks like a movie from the minds of Lynch (specifically ERASERHEAD), Buttgereit, and even a little of \"Begotten\". What this guy does to his pregnant sister is beyond belief, but then again, did it really happen or is it his brain's left and right sides doing battle. That's the main theme of this piece of art, to dra...</td>\n",
       "      <td>1</td>\n",
       "    </tr>\n",
       "    <tr>\n",
       "      <th>7</th>\n",
       "      <td>I caught this film on AZN on cable. It sounded like it would be a good film, a Japanese \"Green Card\". I can't say I've ever disliked an Asian film, quite the contrary. Some of the most incredible horror films of all time are Japanese and Korean, and I am a HUGE fan of John Woo's Hong Kong films. I an not adverse to a light hearted films, like Tampopo or Chung King Express (two of my favourites), so I thought I would like this. Well, I would rather slit my wrists and drink my own blood than w...</td>\n",
       "      <td>0</td>\n",
       "    </tr>\n",
       "    <tr>\n",
       "      <th>8</th>\n",
       "      <td>It may be the remake of 1987 Autumn's Tale after eleven years, as the director Mabel Cheung claimed. Mabel employs rock music as the medium in this movie to express her personal attitude to life, in which love, desire and the consequential frustration play significantly crucial roles. Rock music may not be the best vehicle to convey the profound sentiment, and yet it is not too inappropriate to utilize it as the life of underground rock musicians is bitterly more intense than an ordinary one...</td>\n",
       "      <td>1</td>\n",
       "    </tr>\n",
       "    <tr>\n",
       "      <th>9</th>\n",
       "      <td>My Super Ex Girlfriend turned out to be a pleasant surprise for me, I was really expecting a horrible movie that would probably be stupid and predictable, and you know what? It was! But this movie did have so many wonderful laughs and a fun plot that anyone could get a kick out of. I know that this was a very cheesy movie, but Uma and Anna were just so cool and Steve was such a great addition along with a great cast that looked like they had so much fun and that's what made the movie really ...</td>\n",
       "      <td>1</td>\n",
       "    </tr>\n",
       "  </tbody>\n",
       "</table>\n",
       "</div>"
      ],
      "text/plain": [
       "                                                                                                                                                                                                                                                                                                                                                                                                                                                                                                                  text  \\\n",
       "0  I grew up (b. 1965) watching and loving the Thunderbirds. All my mates at school watched. We played \"Thunderbirds\" before school, during lunch and after school. We all wanted to be Virgil or Scott. No one wanted to be Alan. Counting down from 5 became an art form. I took my children to see the movie hoping they would get a glimpse of what I loved as a child. How bitterly disappointing. The only high point was the snappy theme tune. Not that it could compare with the original score of the Thu...   \n",
       "1  When I put this movie in my DVD player, and sat down with a coke and some chips, I had some expectations. I was hoping that this movie would contain some of the strong-points of the first movie: Awsome animation, good flowing story, excellent voice cast, funny comedy and a kick-ass soundtrack. But, to my disappointment, not any of this is to be found in Atlantis: Milo's Return. Had I read some reviews first, I might not have been so let down. The following paragraph will be directed to those...   \n",
       "2  Why do people who do not know what a particular time in the past was like feel the need to try to define that time for others? Replace Woodstock with the Civil War and the Apollo moon-landing with the Titanic sinking and you've got as realistic a flick as this formulaic soap opera populated entirely by low-life trash. Is this what kids who were too young to be allowed to go to Woodstock and who failed grade school composition do? \"I'll show those old meanies, I'll put out my own movie and pr...   \n",
       "3                                                                                                                                                      Even though I have great interest in Biblical movies, I was bored to death every minute of the movie. Everything is bad. The movie is too long, the acting is most of the time a Joke and the script is horrible. I did not get the point in mixing the story about Abraham and Noah together. So if you value your time and sanity stay away from this horror.   \n",
       "4  Im a die hard Dads Army fan and nothing will ever change that. I got all the tapes, DVD's and audiobooks and every time i watch/listen to them its brand new. <br /><br />The film. The film is a re run of certain episodes, Man and the hour, Enemy within the gates, Battle School and numerous others with a different edge. Introduction of a new General instead of Captain Square was a brilliant move - especially when he wouldn't cash the cheque (something that is rarely done now).<br /><br />It f...   \n",
       "5  A terrible movie as everyone has said. What made me laugh was the cameo appearance by Scott McNealy, giving an award to one of the murdered programmers in front of a wall of SUN logos. McNealy is the CEO of SUN Microsystem, a company that practically defines itself by its hatred of Microsoft. They have been instrumental in filing antitrust complaints against Microsoft. So, were they silly enough to think this bad movie would add fuel to that fire?<br /><br />There's no public record I see of...   \n",
       "6  Finally watched this shocking movie last night, and what a disturbing mindf**ker it is, and unbelievably bloody and some unforgettable scenes, and a total assault on the senses. Looks like a movie from the minds of Lynch (specifically ERASERHEAD), Buttgereit, and even a little of \"Begotten\". What this guy does to his pregnant sister is beyond belief, but then again, did it really happen or is it his brain's left and right sides doing battle. That's the main theme of this piece of art, to dra...   \n",
       "7  I caught this film on AZN on cable. It sounded like it would be a good film, a Japanese \"Green Card\". I can't say I've ever disliked an Asian film, quite the contrary. Some of the most incredible horror films of all time are Japanese and Korean, and I am a HUGE fan of John Woo's Hong Kong films. I an not adverse to a light hearted films, like Tampopo or Chung King Express (two of my favourites), so I thought I would like this. Well, I would rather slit my wrists and drink my own blood than w...   \n",
       "8  It may be the remake of 1987 Autumn's Tale after eleven years, as the director Mabel Cheung claimed. Mabel employs rock music as the medium in this movie to express her personal attitude to life, in which love, desire and the consequential frustration play significantly crucial roles. Rock music may not be the best vehicle to convey the profound sentiment, and yet it is not too inappropriate to utilize it as the life of underground rock musicians is bitterly more intense than an ordinary one...   \n",
       "9  My Super Ex Girlfriend turned out to be a pleasant surprise for me, I was really expecting a horrible movie that would probably be stupid and predictable, and you know what? It was! But this movie did have so many wonderful laughs and a fun plot that anyone could get a kick out of. I know that this was a very cheesy movie, but Uma and Anna were just so cool and Steve was such a great addition along with a great cast that looked like they had so much fun and that's what made the movie really ...   \n",
       "\n",
       "   label  \n",
       "0      0  \n",
       "1      0  \n",
       "2      0  \n",
       "3      0  \n",
       "4      1  \n",
       "5      0  \n",
       "6      1  \n",
       "7      0  \n",
       "8      1  \n",
       "9      1  "
      ]
     },
     "execution_count": 1,
     "metadata": {},
     "output_type": "execute_result"
    }
   ],
   "source": [
    "# import pandas to make our lives easier\n",
    "import pandas as pd\n",
    "pd.set_option('display.max_colwidth', 500)\n",
    "\n",
    "# load the movie reviews dataset using Pandas\n",
    "dataset = pd.read_csv('movie.csv')\n",
    "\n",
    "# make sure that we do not have any duplicate entries in our dataset\n",
    "dataset = dataset.drop_duplicates()\n",
    "\n",
    "# lets inspect a few lines to see what we have\n",
    "dataset.iloc[0:10]"
   ]
  },
  {
   "cell_type": "markdown",
   "id": "703d4ba3-9111-4a0f-93cb-cd2f901b2c03",
   "metadata": {},
   "source": [
    "By inspecting the first few samples in our dataset, we observe that we have two columns:\n",
    "\n",
    "- **text:** The movie review in text\n",
    "- **label:** The groundtruth label on whether the movie review is positive or negative. 1 corresponds to positive reviews, while 0 corresponds to negative reviews"
   ]
  },
  {
   "cell_type": "code",
   "execution_count": 2,
   "id": "13a18ad4-b362-47a5-9b82-677643c6774d",
   "metadata": {},
   "outputs": [
    {
     "name": "stdout",
     "output_type": "stream",
     "text": [
      "Number of samples: All=39723 Positive=19908 Negative=19815\n"
     ]
    }
   ],
   "source": [
    "# lets check how many samples we have\n",
    "print(\"Number of samples: All=%d Positive=%d Negative=%d\" %(dataset.shape[0], dataset[dataset.label==1].shape[0], dataset[dataset.label==0].shape[0]))"
   ]
  },
  {
   "cell_type": "markdown",
   "id": "a31436d5-d3c4-4445-a5a4-4af31b9e77d2",
   "metadata": {},
   "source": [
    "We observe that our dataset consists of 39K samples. It is also important to assess if our dataset is balanced or imbalanced. This is important as having an imbalanced dataset might affect the classification performance and generalizability of our classifier. Generally, we aim to have a balanced dataset so that the classifier can learn from a similar number of samples for each class. Here, we see that our dataset is balanced, given that we have 19K samples for positive reviews and 19 samples for negative reviews.\n",
    "\n",
    "\n",
    "Now that we have loaded our dataset in memory, lets preprocess it!\n"
   ]
  },
  {
   "cell_type": "markdown",
   "id": "78c2f535-5b09-46dd-94b4-24f99f31041b",
   "metadata": {},
   "source": [
    "## 1. Preprocessing the raw dataset"
   ]
  },
  {
   "cell_type": "markdown",
   "id": "12935c91-b3b5-4ea7-8717-c54f267eb9c0",
   "metadata": {},
   "source": [
    "For the purposes of this simple classification task, we will preprocess the raw dataset using the following steps:\n",
    "- Normalize text by converting everything to lowercase\n",
    "- Remove punctuation, numbers, special characters, etc.\n",
    "- Stem all the words"
   ]
  },
  {
   "cell_type": "code",
   "execution_count": 3,
   "id": "a7216cf8-8d70-408d-ad2c-ada82efbaf6b",
   "metadata": {},
   "outputs": [],
   "source": [
    "import re\n",
    "from nltk.corpus import stopwords\n",
    "from nltk.stem import PorterStemmer\n",
    "\n",
    "# Download stopwords\n",
    "import nltk\n",
    "nltk.download('stopwords', quiet=True)\n",
    "\n",
    "# stop words from the NLTK library\n",
    "stop_words = set(stopwords.words('english'))\n",
    "\n",
    "# instatiate our Porter Stemmer that will help us stem our dataset\n",
    "stemmer = PorterStemmer()\n",
    "\n",
    "# method to preprocess our text\n",
    "# INPUT: the raw text\n",
    "# OUTPUT: the preprocessed text \n",
    "# (after performing normalization by converting everything to lowercase, removing punctuation and special chars, as well as stemming the words)\n",
    "def preprocess_text(text):\n",
    "    \n",
    "    # Convert to lowercase\n",
    "    text = text.lower()\n",
    "    \n",
    "    # Remove punctuation, numbers, special characters, etc.\n",
    "    text = re.sub('[^a-z]', ' ', text)\n",
    "    \n",
    "    # Remove stopwords and stem\n",
    "    text = ' '.join(stemmer.stem(word) for word in text.split() if word not in stop_words)\n",
    "    \n",
    "    return text\n",
    "\n",
    "# apply the preprocess_text method to all the entries in our dataframe. we apply the method on the \"text\" column and we store the output\n",
    "# in a new column that we name \"preprocessed_text\"\n",
    "dataset['preprocessed_text'] = dataset['text'].apply(preprocess_text)"
   ]
  },
  {
   "cell_type": "markdown",
   "id": "0da7321d-e9ff-4e55-a0c7-adc866a63598",
   "metadata": {
    "tags": []
   },
   "source": [
    "## 2. Extracting Bag of Words representations from the preprocessed dataset "
   ]
  },
  {
   "cell_type": "markdown",
   "id": "7f006265-b538-4eea-b544-fb677609fca8",
   "metadata": {},
   "source": [
    "Having preprocessed our dataset, the next step in a traditional NLP classifier, is to perform **feature extraction**. Feature extraction aim to convert the preprocessed textual dataset into features that can directly be used for classification purposes (i.e., convert text to numerical features that will be used by a classifier to, in this case, determine if a movie review is positive or negative).\n",
    "\n",
    "For the purposes of this lab, we will use the simplest feature extraction method, which is a method called **Bag of Words (BoW) representations.** BoW representations essentially represent each document (in this case each movie review) as an unordered collection of words (does not consider word order and grammar but takes into account how many times each word appears in each document).\n",
    "\n",
    "For extracting BoW representations, we will use the Sklearn library. It has readily available methods to convert a corpus of text into a multidimensional array corresponding to BoW representations. In this multidimensional matrix, each row corresponds to a sample, while columns correspond to specific words that appear in our corpus. The numbers in each cell, correspond to the number of times a word appears in the document."
   ]
  },
  {
   "cell_type": "code",
   "execution_count": 4,
   "id": "33381816-a921-4cd6-9421-c3629a3b06e5",
   "metadata": {},
   "outputs": [],
   "source": [
    "# Import the CountVectorizer method, which is the one we will use for generating our Bag of Words representaion\n",
    "from sklearn.feature_extraction.text import CountVectorizer\n",
    "\n",
    "# instatiate our BoW vectorizer (here we use all the default parameters)\n",
    "# we will demonstrate some of the parameters later in this lab\n",
    "vectorizer = CountVectorizer()\n",
    "\n",
    "# here, we extract our BoW array. This will be the input to our classifier\n",
    "X = vectorizer.fit_transform(dataset['preprocessed_text']).toarray()\n",
    "\n",
    "# lets also store the groundtruth labels to a Y variable \n",
    "y = dataset['label']"
   ]
  },
  {
   "cell_type": "code",
   "execution_count": 5,
   "id": "9ccfadac-245b-4972-9257-ad4a65026580",
   "metadata": {},
   "outputs": [
    {
     "name": "stdout",
     "output_type": "stream",
     "text": [
      "Shape of the X array =(39723, 62647)\n"
     ]
    }
   ],
   "source": [
    "# lets inspect this X array (BoW representations)\n",
    "print(\"Shape of the X array =%s\" %(str(X.shape)) )"
   ]
  },
  {
   "cell_type": "markdown",
   "id": "0990ec01-f677-483f-a7e2-53f457f41c60",
   "metadata": {},
   "source": [
    "Our BoW array comprises of 39K rows and 62K columns. The rows are 39K because we have 39K samples in our dataset. But, how did we end up with 62K columns? "
   ]
  },
  {
   "cell_type": "markdown",
   "id": "fae315b7-2cb6-4d95-bce7-7c4379623295",
   "metadata": {},
   "source": [
    "We have 62K columns because we have 62K unique words in our dataset. In the BoW representations we treat each word as a separate feature.\n",
    "\n",
    "Lets see how we can extract information of what is each feature in this BoW array"
   ]
  },
  {
   "cell_type": "code",
   "execution_count": 6,
   "id": "618bdeaf-7ac5-46fb-a3f0-3aba7df724d3",
   "metadata": {},
   "outputs": [
    {
     "data": {
      "text/plain": [
       "{'grew': 22611, 'watch': 60118}"
      ]
     },
     "execution_count": 6,
     "metadata": {},
     "output_type": "execute_result"
    }
   ],
   "source": [
    "# lets see what each column corresponds to\n",
    "# the CountVectorizer holds in the vocabulary_ attribute information about the features after we run the fit_transform method\n",
    "features_mapping = vectorizer.vocabulary_\n",
    "\n",
    "# lets see some examples of what this mapping includes \n",
    "# here we print the first two keys and values that exist in this dictionary (we show an example since the dictionary is huge!)\n",
    "dict(list(features_mapping.items())[0:2])"
   ]
  },
  {
   "cell_type": "markdown",
   "id": "5fa750ee-c96a-41d8-9f61-52a76d63ef58",
   "metadata": {},
   "source": [
    "**This means that column 22611 in our BoW matrix correspond to the word \"grew\", while column 60118 corresponds to the word \"watch\".**"
   ]
  },
  {
   "cell_type": "markdown",
   "id": "f628d033-7b4e-4661-a229-0f556863a0c9",
   "metadata": {
    "tags": []
   },
   "source": [
    "### 2.1 Reducing the number of features in BoW representations"
   ]
  },
  {
   "cell_type": "markdown",
   "id": "ee4d5a8c-d7f8-4cb8-9c36-43b19ebf828e",
   "metadata": {},
   "source": [
    " In general, when performing NLP classification tasks we aim to reduce the number of features (i.e., 62K is a very large number of features). How can we reduce the number of features in BoW representations?"
   ]
  },
  {
   "cell_type": "markdown",
   "id": "ce41a246-732b-42ca-be8f-2d14639815b6",
   "metadata": {},
   "source": [
    "*The main idea is to focus on the most important words in our dataset. How we assess importance? Well, we can focus on the most occuring words in our dataset, as they are more likely to be more informative. E.g., if a word appears to only a document or only once it will not be very informative for our NLP classification task. Lets see how we can do this with sklearn. We will use the top 10K words.*"
   ]
  },
  {
   "cell_type": "code",
   "execution_count": 7,
   "id": "b9aa8071-7e6f-4a11-b9d4-a29a45e3a6c1",
   "metadata": {},
   "outputs": [],
   "source": [
    "# instatiate our BoW vectorizer (here we want to extract 10K features, so we will focus only on the top 10K most occurring words in our dataset)\n",
    "vectorizer = CountVectorizer(max_features=10000)\n",
    "\n",
    "# here, we extract our BoW array. This will be the input to our classifier\n",
    "X = vectorizer.fit_transform(dataset['preprocessed_text']).toarray()"
   ]
  },
  {
   "cell_type": "code",
   "execution_count": 8,
   "id": "94c093da-2b92-4551-8d59-d00a7cd914d8",
   "metadata": {},
   "outputs": [
    {
     "name": "stdout",
     "output_type": "stream",
     "text": [
      "Shape of the X array = (39723, 10000)\n"
     ]
    }
   ],
   "source": [
    "print(\"Shape of the X array = %s\" %(str(X.shape)))"
   ]
  },
  {
   "cell_type": "code",
   "execution_count": 9,
   "id": "f37de25c-0406-49ef-a39a-363a35ba4710",
   "metadata": {},
   "outputs": [
    {
     "data": {
      "text/plain": [
       "{'grew': 3827, 'watch': 9684}"
      ]
     },
     "execution_count": 9,
     "metadata": {},
     "output_type": "execute_result"
    }
   ],
   "source": [
    "features_mapping = vectorizer.vocabulary_\n",
    "dict(list(features_mapping.items())[0:2])"
   ]
  },
  {
   "cell_type": "markdown",
   "id": "25b5b843-e5c4-4176-8e5e-f93a4adc540d",
   "metadata": {},
   "source": [
    "Observations with the new CountVectorizer (10K features)\n",
    "\n",
    "- We reduced the number of features by considering only the top 10K words based on their occurrences in the entire corpus\n",
    "- The feature indices changed from before. Now, column 3827 corresponds to the word \"grew\" and column 9684 corresponds to the word \"watch\""
   ]
  },
  {
   "cell_type": "markdown",
   "id": "70cfd3ff-9209-4809-b19a-5b1bb827fba1",
   "metadata": {},
   "source": [
    "**Now, having converted our textual dataset into BoW numerical representations, lets perform our classification task using a Naive Bayes classifier**"
   ]
  },
  {
   "cell_type": "markdown",
   "id": "8b9844bc-d08f-4179-9a33-7195555cedbc",
   "metadata": {},
   "source": [
    "## 3. Performing sentiment classification using Naive Bayes"
   ]
  },
  {
   "cell_type": "markdown",
   "id": "2987b0a5-718c-4f22-8db4-95bad4836702",
   "metadata": {
    "tags": []
   },
   "source": [
    "### 3.1 Splitting data into train and test sets"
   ]
  },
  {
   "cell_type": "markdown",
   "id": "469c40b1-d101-48f1-8326-31150e4e7f7e",
   "metadata": {},
   "source": [
    "Before training our classifier, we need to split our dataset into **training** and **test** sets. The classifier will be trained using only the training dataset. We use the test set to evaluate the performance of our classifier in an unseen data. We always need to evaluate the performance to unseen samples, as the classifier has already seen the training dataset and the ground truth labels of the training dataset."
   ]
  },
  {
   "cell_type": "code",
   "execution_count": 10,
   "id": "c15b1e2c-3233-48fa-bdaf-7c0f9e5fe259",
   "metadata": {},
   "outputs": [],
   "source": [
    "# Sklearn has a readily available method for splitting the dataset into training and test sets\n",
    "# it randomly splits the data into test and training sets. We do this for both X (BoW representations) and Y (groundtruth labels).\n",
    "from sklearn.model_selection import train_test_split\n",
    "\n",
    "# test_size indicates what proportion of the dataset should be included in the test set. Here, we use 20% of the corpus as the test set \n",
    "# (the rest 80% is used for training)\n",
    "#random_state is used to ensure that multiple runs of this method will have the same result \n",
    "X_train, X_test, y_train, y_test = train_test_split(X, y, test_size=0.2, random_state=42) "
   ]
  },
  {
   "cell_type": "markdown",
   "id": "f3c664b6-2b54-4126-b99c-08f191e795c2",
   "metadata": {},
   "source": [
    "### 3.2 Training the Naive Bayes Classifier"
   ]
  },
  {
   "cell_type": "markdown",
   "id": "889f7b2f-2651-4b35-8beb-21bdaf088916",
   "metadata": {},
   "source": [
    "Now that we have a training and test set, we will train our classifier."
   ]
  },
  {
   "cell_type": "code",
   "execution_count": 11,
   "id": "15c2c4e9-dc39-41e8-a5cf-c2490b1f57de",
   "metadata": {},
   "outputs": [
    {
     "data": {
      "text/html": [
       "<style>#sk-container-id-1 {color: black;}#sk-container-id-1 pre{padding: 0;}#sk-container-id-1 div.sk-toggleable {background-color: white;}#sk-container-id-1 label.sk-toggleable__label {cursor: pointer;display: block;width: 100%;margin-bottom: 0;padding: 0.3em;box-sizing: border-box;text-align: center;}#sk-container-id-1 label.sk-toggleable__label-arrow:before {content: \"▸\";float: left;margin-right: 0.25em;color: #696969;}#sk-container-id-1 label.sk-toggleable__label-arrow:hover:before {color: black;}#sk-container-id-1 div.sk-estimator:hover label.sk-toggleable__label-arrow:before {color: black;}#sk-container-id-1 div.sk-toggleable__content {max-height: 0;max-width: 0;overflow: hidden;text-align: left;background-color: #f0f8ff;}#sk-container-id-1 div.sk-toggleable__content pre {margin: 0.2em;color: black;border-radius: 0.25em;background-color: #f0f8ff;}#sk-container-id-1 input.sk-toggleable__control:checked~div.sk-toggleable__content {max-height: 200px;max-width: 100%;overflow: auto;}#sk-container-id-1 input.sk-toggleable__control:checked~label.sk-toggleable__label-arrow:before {content: \"▾\";}#sk-container-id-1 div.sk-estimator input.sk-toggleable__control:checked~label.sk-toggleable__label {background-color: #d4ebff;}#sk-container-id-1 div.sk-label input.sk-toggleable__control:checked~label.sk-toggleable__label {background-color: #d4ebff;}#sk-container-id-1 input.sk-hidden--visually {border: 0;clip: rect(1px 1px 1px 1px);clip: rect(1px, 1px, 1px, 1px);height: 1px;margin: -1px;overflow: hidden;padding: 0;position: absolute;width: 1px;}#sk-container-id-1 div.sk-estimator {font-family: monospace;background-color: #f0f8ff;border: 1px dotted black;border-radius: 0.25em;box-sizing: border-box;margin-bottom: 0.5em;}#sk-container-id-1 div.sk-estimator:hover {background-color: #d4ebff;}#sk-container-id-1 div.sk-parallel-item::after {content: \"\";width: 100%;border-bottom: 1px solid gray;flex-grow: 1;}#sk-container-id-1 div.sk-label:hover label.sk-toggleable__label {background-color: #d4ebff;}#sk-container-id-1 div.sk-serial::before {content: \"\";position: absolute;border-left: 1px solid gray;box-sizing: border-box;top: 0;bottom: 0;left: 50%;z-index: 0;}#sk-container-id-1 div.sk-serial {display: flex;flex-direction: column;align-items: center;background-color: white;padding-right: 0.2em;padding-left: 0.2em;position: relative;}#sk-container-id-1 div.sk-item {position: relative;z-index: 1;}#sk-container-id-1 div.sk-parallel {display: flex;align-items: stretch;justify-content: center;background-color: white;position: relative;}#sk-container-id-1 div.sk-item::before, #sk-container-id-1 div.sk-parallel-item::before {content: \"\";position: absolute;border-left: 1px solid gray;box-sizing: border-box;top: 0;bottom: 0;left: 50%;z-index: -1;}#sk-container-id-1 div.sk-parallel-item {display: flex;flex-direction: column;z-index: 1;position: relative;background-color: white;}#sk-container-id-1 div.sk-parallel-item:first-child::after {align-self: flex-end;width: 50%;}#sk-container-id-1 div.sk-parallel-item:last-child::after {align-self: flex-start;width: 50%;}#sk-container-id-1 div.sk-parallel-item:only-child::after {width: 0;}#sk-container-id-1 div.sk-dashed-wrapped {border: 1px dashed gray;margin: 0 0.4em 0.5em 0.4em;box-sizing: border-box;padding-bottom: 0.4em;background-color: white;}#sk-container-id-1 div.sk-label label {font-family: monospace;font-weight: bold;display: inline-block;line-height: 1.2em;}#sk-container-id-1 div.sk-label-container {text-align: center;}#sk-container-id-1 div.sk-container {/* jupyter's `normalize.less` sets `[hidden] { display: none; }` but bootstrap.min.css set `[hidden] { display: none !important; }` so we also need the `!important` here to be able to override the default hidden behavior on the sphinx rendered scikit-learn.org. See: https://github.com/scikit-learn/scikit-learn/issues/21755 */display: inline-block !important;position: relative;}#sk-container-id-1 div.sk-text-repr-fallback {display: none;}</style><div id=\"sk-container-id-1\" class=\"sk-top-container\"><div class=\"sk-text-repr-fallback\"><pre>MultinomialNB()</pre><b>In a Jupyter environment, please rerun this cell to show the HTML representation or trust the notebook. <br />On GitHub, the HTML representation is unable to render, please try loading this page with nbviewer.org.</b></div><div class=\"sk-container\" hidden><div class=\"sk-item\"><div class=\"sk-estimator sk-toggleable\"><input class=\"sk-toggleable__control sk-hidden--visually\" id=\"sk-estimator-id-1\" type=\"checkbox\" checked><label for=\"sk-estimator-id-1\" class=\"sk-toggleable__label sk-toggleable__label-arrow\">MultinomialNB</label><div class=\"sk-toggleable__content\"><pre>MultinomialNB()</pre></div></div></div></div></div>"
      ],
      "text/plain": [
       "MultinomialNB()"
      ]
     },
     "execution_count": 11,
     "metadata": {},
     "output_type": "execute_result"
    }
   ],
   "source": [
    "# we import the Multinomial Naive Bayes implementation from Sklearn\n",
    "from sklearn.naive_bayes import MultinomialNB\n",
    "classifier = MultinomialNB()\n",
    "\n",
    "# we train our Naive Bayes classifier. Note that here we only use the training set.\n",
    "classifier.fit(X_train, y_train)"
   ]
  },
  {
   "cell_type": "markdown",
   "id": "36134bb9-a34b-4c0b-b2d4-b3a7062d8bff",
   "metadata": {},
   "source": [
    "### 3.3 Evaluating Classifier "
   ]
  },
  {
   "cell_type": "markdown",
   "id": "f7e366b6-50ee-47cb-a8c8-03ccd75b87a4",
   "metadata": {},
   "source": [
    "Now that we have trained our classifier, we aim to evaluate how well our classifier can predict whether movie reviews are positive or negative. To do this, we will use the test set and calculate standard classification metrics such as accuracy, precisio, recall, and f1-score)."
   ]
  },
  {
   "cell_type": "code",
   "execution_count": 12,
   "id": "ec0d9128-1ef3-44f4-8f81-8ad2186d5a03",
   "metadata": {},
   "outputs": [
    {
     "name": "stdout",
     "output_type": "stream",
     "text": [
      "Accuracy: 0.845\n",
      "Precision: 0.849\n",
      "Recall: 0.838\n",
      "F1-Score: 0.843\n"
     ]
    }
   ],
   "source": [
    "# sklearn has readily available methods to calculate classification metrics\n",
    "from sklearn.metrics import accuracy_score, precision_score, recall_score, f1_score\n",
    "\n",
    "# first we use the classifier to make predictions with all the samples that are included in the test set\n",
    "y_pred = classifier.predict(X_test)\n",
    "\n",
    "#then, we compare the predicted labels with the ground truth labels to calculate the accuracy, precision, recall, and f1_score of our classifer\n",
    "print(\"Accuracy: %.3f\" %(accuracy_score(y_test, y_pred)))\n",
    "print(\"Precision: %.3f\" %(precision_score(y_test, y_pred)))\n",
    "print(\"Recall: %.3f\" %(recall_score(y_test, y_pred)))\n",
    "print(\"F1-Score: %.3f\" %(f1_score(y_test, y_pred)))"
   ]
  },
  {
   "cell_type": "markdown",
   "id": "b755e79a-9b3c-4186-b91c-5c805963fd8e",
   "metadata": {},
   "source": [
    "We observe that with these very simple representation (BoW) and classifier (Naive Bayes), we can achieve good performance. The classifier achieves an accuracy of 84.5% and an F1-score of 0.843."
   ]
  },
  {
   "cell_type": "code",
   "execution_count": 13,
   "id": "e0e62051-0156-4438-9391-eff41950bc48",
   "metadata": {},
   "outputs": [
    {
     "data": {
      "text/plain": [
       "array([[3401,  590],\n",
       "       [ 640, 3314]])"
      ]
     },
     "execution_count": 13,
     "metadata": {},
     "output_type": "execute_result"
    }
   ],
   "source": [
    "# we can also visualize the results using a Confusion Matrix\n",
    "from sklearn.metrics import confusion_matrix\n",
    "confusion_matrix(y_test, y_pred)"
   ]
  },
  {
   "cell_type": "markdown",
   "id": "2f74d2a7-9656-4883-9c19-7c526e7af864",
   "metadata": {},
   "source": [
    "The confusion matrix is another view of the performance of the classifier. In this matrix, the rows correspond to the actual classes (negative/positive) while the columns correspond to the predicted classes from the classifier. In these specific results, 3401 samples in the dataset are correctly predicted as being negative, while 590 are wrongfully predicted as positive while their groundtruth label is negative. Similarly, 3314 are correcly predicted as being positive, while 640 samples are predicted as being negative, while in reality they are positive."
   ]
  },
  {
   "cell_type": "markdown",
   "id": "cddec746-881b-450d-9d26-ce0a8c4b7429",
   "metadata": {},
   "source": [
    "### 3.4 Making predictions \n"
   ]
  },
  {
   "cell_type": "markdown",
   "id": "8efb5fc1-c7d5-435b-9484-74dd3e33a267",
   "metadata": {},
   "source": [
    "Now that we have a trained and evaluated Naive Bayes classifier, how do we make predictions to new uneseen reviews? \n",
    "\n",
    "Lets assume that we have a new review in text, what steps do we need to take to classify it to either positive and negative review?"
   ]
  },
  {
   "cell_type": "markdown",
   "id": "c8d14b3f-702b-44f3-84b3-2931a6251e77",
   "metadata": {},
   "source": [
    "To make new predictions, we need to follow all the steps that we did for the corpus. Specifically:\n",
    "    \n",
    "1. Preprocess the new review using the same methodology as before\n",
    "2. Use the already fitted CountVectorizer to convert the text a BoW representation. **Note that we need to use the same CountVectorizer instance, as we want to use the same features as the ones we used for training our classifier.**\n",
    "3. After obtaining the BoW representaiton, we use the already trained Naive Bayes Classifier to make predictions and classify the new review as either positive or negative"
   ]
  },
  {
   "cell_type": "code",
   "execution_count": 14,
   "id": "7a13dffc-1022-4086-a1d9-4549ccf63b83",
   "metadata": {},
   "outputs": [
    {
     "data": {
      "text/plain": [
       "array([[0.71312735, 0.28687265]])"
      ]
     },
     "execution_count": 14,
     "metadata": {},
     "output_type": "execute_result"
    }
   ],
   "source": [
    "# this is the new review that we want to classify\n",
    "new_review = \"I really disliked the plot and the characters.\"\n",
    "\n",
    "# 1. Preprocess the new review using the same method as before\n",
    "cleaned_review = preprocess_text(new_review)\n",
    "\n",
    "# 2. Use the already trained vectorizer to transform the text into BoW representation\n",
    "new_review_features = vectorizer.transform([cleaned_review]).toarray()\n",
    "\n",
    "# 3. Use the already trained Naive Bayes classifier to extract the probabilities for each class\n",
    "predicted_sentiment = classifier.predict_proba(new_review_features)\n",
    "\n",
    "# output the probabilities for each class\n",
    "predicted_sentiment"
   ]
  },
  {
   "cell_type": "markdown",
   "id": "331bcdf8-0140-415a-92de-711335b286ff",
   "metadata": {},
   "source": [
    "In this output, each number correspond to the probability of each class. That is, the classifier predicts with a probability of 0.71 that the new review is negative and a probability of 0.28 that the new review is positive. So the classifier will take the higher probability and essentially predicts that the new review is negative."
   ]
  },
  {
   "cell_type": "markdown",
   "id": "66d2be8c-ba8e-4dcc-b0f4-10fa3325c6bf",
   "metadata": {},
   "source": [
    "### 4. **Performance Considerations and Improvements**"
   ]
  },
  {
   "cell_type": "markdown",
   "id": "988ba55b-e586-48a1-85ae-41ab8a99efd0",
   "metadata": {},
   "source": [
    "All three steps and decisions we made in this lab, are likely to affect the performance of the classifier. Particularly:\n",
    "\n",
    "- The way we preprocess the dataset\n",
    "- The feature extraction method (BoW) and the number of features that we used\n",
    "- The selection of the classifier (Naive Bayes)\n",
    "\n",
    "If we aim to improve the performance of the classifier, we can tweak or change some of these components. Potential improvements include: \n",
    "1. Change the number of features in BoW \n",
    "2. Use a totally different feature extraction technique (more on this later in the course)\n",
    "3. Use a different classifier (e.g., Decision Tree, Random Forest, etc.)\n",
    "\n",
    "For the purposes of this lab, lets focus on points 1 and 3 above."
   ]
  },
  {
   "cell_type": "markdown",
   "id": "9cd5fb8f-ae6f-40fa-b233-16e832368d8a",
   "metadata": {},
   "source": [
    "## 4.1 Changing the number of features in BoW"
   ]
  },
  {
   "cell_type": "markdown",
   "id": "b4b9b1b2-d681-4332-bef2-c87f078ec331",
   "metadata": {},
   "source": [
    "Here, we aim to assess if we can improve the performance of our Naive Bayes classifier by tweaking the number of features in our BoW representations. We will change the CountVectorizer definition with varying number of features, retrain the classifier, and evaluate the performance to figure out how changing the number of features affects the performance."
   ]
  },
  {
   "cell_type": "code",
   "execution_count": 15,
   "id": "017aedfb-5de2-4bf5-8fbe-99be540f53a0",
   "metadata": {},
   "outputs": [],
   "source": [
    "num_samples = [1000, 5000, 10000, 20000, 30000, 40000, 50000, 60000]\n",
    "\n",
    "accuracies = []\n",
    "precisions = []\n",
    "recalls = []\n",
    "f1_scores = []\n",
    "\n",
    "for num in num_samples:\n",
    "    \n",
    "    # instatiate our BoW vectorizer\n",
    "    vectorizer_num_samples = CountVectorizer(max_features=num)\n",
    "\n",
    "    # here, we extract our BoW array. This will be the input to our classifier\n",
    "    X = vectorizer_num_samples.fit_transform(dataset['preprocessed_text']).toarray()\n",
    "    \n",
    "    # split the dataset\n",
    "    # defining random_state is important here as we aim to re-run this multiple times so we want to keep the same split\n",
    "    X_train, X_test, y_train, y_test = train_test_split(X, y, test_size=0.2, random_state=42) \n",
    "    \n",
    "    # we train our Naive Bayes classifier. Note that here we only use the training set.\n",
    "    my_classifier = MultinomialNB()\n",
    "    my_classifier.fit(X_train, y_train)\n",
    "    \n",
    "    # first we use the classifier to make predictions with all the samples that are included in the test set\n",
    "    my_y_pred = my_classifier.predict(X_test)\n",
    "\n",
    "    #then, we compare the predicted labels with the ground truth labels to calculate the accuracy, precision, recall, and f1_score of our classifer\n",
    "    accuracies.append(accuracy_score(y_test, my_y_pred))\n",
    "    precisions.append(precision_score(y_test, my_y_pred))\n",
    "    recalls.append(recall_score(y_test, my_y_pred))\n",
    "    f1_scores.append(f1_score(y_test, my_y_pred))\n",
    "    "
   ]
  },
  {
   "cell_type": "markdown",
   "id": "005373ea-9478-4f36-af20-6708c281025f",
   "metadata": {},
   "source": [
    "Lets plot how the performance changes with the number of BoW features. We visualize the F1 score for varying number of BoW features"
   ]
  },
  {
   "cell_type": "code",
   "execution_count": 16,
   "id": "92eac1df-efd4-42e3-ba87-ca928b6ba80f",
   "metadata": {},
   "outputs": [
    {
     "data": {
      "image/png": "[encoded data removed]",
      "text/plain": [
       "<Figure size 640x480 with 1 Axes>"
      ]
     },
     "metadata": {},
     "output_type": "display_data"
    }
   ],
   "source": [
    "import matplotlib.pyplot as plt\n",
    "\n",
    "# Create the line plot\n",
    "plt.plot(num_samples, f1_scores, marker='o', linestyle='-')\n",
    "\n",
    "# Customize the plot\n",
    "plt.xlabel(\"Number of BoW features\")\n",
    "plt.ylabel(\"F1 Score\")\n",
    "plt.grid(True)\n",
    "\n",
    "# Display the plot\n",
    "plt.show()"
   ]
  },
  {
   "cell_type": "markdown",
   "id": "9d6360ea-ee1e-4b20-998b-93d67758cdbb",
   "metadata": {},
   "source": [
    "We observe that there is a slight imporvement in performance until 30K features and then we have a slight descrease. For the rest of our experimentation we will use 30K for BoW features."
   ]
  },
  {
   "cell_type": "markdown",
   "id": "ed044286-ca43-4ad5-9678-fb36767fe2ae",
   "metadata": {},
   "source": [
    "## 4.2 Using different classifiers for Sentiment Classification"
   ]
  },
  {
   "cell_type": "markdown",
   "id": "32f20a01-dc5e-4684-ac1d-a2ede172f7b3",
   "metadata": {},
   "source": [
    "Here, we will test how the performance changes when we use a classifier other than Naive Bayes. For our experimentation in this lab, we will play with some other traditional Machine Learning classifiers, particularly, Decision Tree and Random Forest."
   ]
  },
  {
   "cell_type": "code",
   "execution_count": null,
   "id": "ee831d35-aae9-4c0f-9104-0b0101a4e824",
   "metadata": {},
   "outputs": [
    {
     "name": "stdout",
     "output_type": "stream",
     "text": [
      "Training a Naive Bayes Classifier...\n",
      "Training an SVM Classifier...\n"
     ]
    }
   ],
   "source": [
    "from sklearn.tree import DecisionTreeClassifier\n",
    "from sklearn.ensemble import RandomForestClassifier\n",
    "\n",
    "\n",
    "# instatiate our BoW vectorizer with 30K\n",
    "vectorizer = CountVectorizer(max_features=30000)\n",
    "\n",
    "# here, we extract our BoW array. This will be the input to our classifier\n",
    "X = vectorizer.fit_transform(dataset['preprocessed_text']).toarray()\n",
    "\n",
    "# split the dataset\n",
    "# defining random_state is important here as we aim to re-run this multiple times so we want to keep the same split\n",
    "X_train, X_test, y_train, y_test = train_test_split(X, y, test_size=0.2, random_state=42)\n",
    "\n",
    "# Train a Naive Bayes Classifier\n",
    "print(\"Training a Naive Bayes Classifier...\")\n",
    "nb_classifier = MultinomialNB()\n",
    "nb_classifier.fit(X_train, y_train)\n",
    "\n",
    "# Train a Decision Tree Classifier\n",
    "print(\"Training a Decision Tree Classifier...\")\n",
    "dt_classifier = DecisionTreeClassifier(random_state=42)\n",
    "dt_classifier.fit(X_train, y_train)\n",
    "\n",
    "# Train a Random Forest classifier\n",
    "print(\"Training a Random Forest Classifier...\")\n",
    "rf_classifier = RandomForestClassifier(random_state=42)\n",
    "rf_classifier.fit(X_train, y_train)"
   ]
  },
  {
   "cell_type": "code",
   "execution_count": null,
   "id": "c25b06b6-4af2-44b9-8fba-b0be986289c0",
   "metadata": {},
   "outputs": [],
   "source": [
    "classifiers = {\n",
    "    'Naive Bayes': nb_classifier,\n",
    "    'Decision Tree': dt_classifier,\n",
    "    'Random Forest': rf_classifier\n",
    "}\n",
    "\n",
    "# Calculate F1-Scores for each classifier\n",
    "f1_scores = {}\n",
    "for name, classifier in classifiers.items():\n",
    "    y_pred = classifier.predict(X_test)\n",
    "    f1_scores[name] = f1_score(y_test, y_pred)\n",
    "\n",
    "# Plotting\n",
    "names = list(f1_scores.keys())\n",
    "values = list(f1_scores.values())\n",
    "\n",
    "plt.figure(figsize=(6, 4))\n",
    "plt.bar(names, values, color=['blue', 'green', 'red', 'cyan'])\n",
    "plt.ylabel('F1-Score')\n",
    "plt.ylim(0, 1)  # Assuming F1-Score range is between 0 and 1\n",
    "plt.show()"
   ]
  },
  {
   "cell_type": "markdown",
   "id": "10049ff0-249f-4668-a51d-a6fbec6426a7",
   "metadata": {},
   "source": [
    "We observe that Random Forest performs slightly better than Naive Bayes in terms of F1 score (improvement of 0.01. Decision tree performs substantially worse. Overall, the selection of the classifier affects the performance so in many cases we try various classifiers and select the one that performs better."
   ]
  },
  {
   "cell_type": "markdown",
   "id": "76d6286a-d207-4b84-8097-c3eabb86c01c",
   "metadata": {},
   "source": [
    "**Note that we did not went in depth on hyperparameter tuning for the Decision Tree and Random Forest classifiers. In a realistic scenario, we perform Grid Search to find the optimal set of hyperparameters and we use the ones that provide the best performance.**"
   ]
  },
  {
   "cell_type": "markdown",
   "id": "25708875-0619-47b3-a12d-f63a9d80aed1",
   "metadata": {},
   "source": [
    "## **Exercise: Augment the dataset and observe how the increased data size affects the performance of each classifier. What do you observe when you have an imbalanced dataset?**"
   ]
  },
  {
   "cell_type": "markdown",
   "id": "a815ee83-0dbe-4fea-9cd9-05adb9e72bbe",
   "metadata": {},
   "source": [
    "The goal of this exercise is to play with the data and the classifiers to understand how the size of the dataset affects the performance of the classifiers. Try to train classifiers using a subset of the original dataset (e.g., 20%, 40%, 60%, 80%) to observe how the performance of these classifiers change. Also, try to create an imbalanced dataset to see how the performance is affected (e.g., instead of 50% positive and 50% negative sample, create a subset of the dataset where 80% are positive and 20% are negative)."
   ]
  },
  {
   "cell_type": "code",
   "execution_count": null,
   "id": "ac0c9213-ac6b-4c32-b477-529655bfd6c9",
   "metadata": {},
   "outputs": [],
   "source": [
    "# Insert your code here:"
   ]
  },
  {
   "cell_type": "markdown",
   "id": "22f002ec-dcb4-4231-9f27-b0afdbf10ca2",
   "metadata": {},
   "source": [
    "## TI3160TU: Natural Language Processing - Classification Tasks Lab -- END"
   ]
  }
 ],
 "metadata": {
  "kernelspec": {
   "display_name": "Python 3 (ipykernel)",
   "language": "python",
   "name": "python3"
  },
  "language_info": {
   "codemirror_mode": {
    "name": "ipython",
    "version": 3
   },
   "file_extension": ".py",
   "mimetype": "text/x-python",
   "name": "python",
   "nbconvert_exporter": "python",
   "pygments_lexer": "ipython3",
   "version": "3.9.6"
  }
 },
 "nbformat": 4,
 "nbformat_minor": 5
}
